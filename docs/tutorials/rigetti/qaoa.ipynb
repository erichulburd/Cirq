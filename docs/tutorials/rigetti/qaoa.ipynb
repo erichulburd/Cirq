{
 "cells": [
  {
   "cell_type": "markdown",
   "metadata": {
    "id": "RZvR3zC9KXGZ"
   },
   "source": [
    "##### Copyright 2020 The Cirq Developers"
   ]
  },
  {
   "cell_type": "code",
   "execution_count": 1,
   "metadata": {
    "cellView": "form",
    "id": "0rUk5P-AKZeB"
   },
   "outputs": [],
   "source": [
    "#@title Licensed under the Apache License, Version 2.0 (the \"License\");\n",
    "# you may not use this file except in compliance with the License.\n",
    "# You may obtain a copy of the License at\n",
    "#\n",
    "# https://www.apache.org/licenses/LICENSE-2.0\n",
    "#\n",
    "# Unless required by applicable law or agreed to in writing, software\n",
    "# distributed under the License is distributed on an \"AS IS\" BASIS,\n",
    "# WITHOUT WARRANTIES OR CONDITIONS OF ANY KIND, either express or implied.\n",
    "# See the License for the specific language governing permissions and\n",
    "# limitations under the License."
   ]
  },
  {
   "cell_type": "markdown",
   "metadata": {
    "id": "S4Y3oEnHKda8"
   },
   "source": [
    "# QAOA: Max-Cut"
   ]
  },
  {
   "cell_type": "markdown",
   "metadata": {
    "id": "FHMnJvAkKfjS"
   },
   "source": [
    "<table class=\"tfo-notebook-buttons\" align=\"left\">\n",
    "  <td>\n",
    "    <a target=\"_blank\" href=\"https://quantumai.google/cirq/tutorials/qaoa\"><img src=\"https://quantumai.google/site-assets/images/buttons/quantumai_logo_1x.png\" />View on QuantumAI</a>\n",
    "  </td>\n",
    "  <td>\n",
    "    <a target=\"_blank\" href=\"https://colab.research.google.com/github/quantumlib/Cirq/blob/master/docs/tutorials/qaoa.ipynb\"><img src=\"https://quantumai.google/site-assets/images/buttons/colab_logo_1x.png\" />Run in Google Colab</a>\n",
    "  </td>\n",
    "  <td>\n",
    "    <a target=\"_blank\" href=\"https://github.com/quantumlib/Cirq/blob/master/docs/tutorials/qaoa.ipynb\"><img src=\"https://quantumai.google/site-assets/images/buttons/github_logo_1x.png\" />View source on GitHub</a>\n",
    "  </td>\n",
    "  <td>\n",
    "    <a href=\"https://storage.googleapis.com/tensorflow_docs/Cirq/docs/tutorials/qaoa.ipynb\"><img src=\"https://quantumai.google/site-assets/images/buttons/download_icon_1x.png\" />Download notebook</a>\n",
    "  </td>\n",
    "</table>"
   ]
  },
  {
   "cell_type": "markdown",
   "metadata": {
    "id": "kL2C06ln6h48"
   },
   "source": [
    "In this tutorial, we implement the quantum approximate optimization algorithm (QAOA) for determining the Max-Cut of the Bristlecone processor's hardware graph (with random edge weights). To do so, we will:\n",
    "\n",
    "1. Define a random set of weights over the hardware graph.\n",
    "2. Construct a QAOA circuit using Cirq.\n",
    "3. Calculate the expected value of the QAOA cost function.\n",
    "4. Create an outer loop optimization to minimize the cost function.\n",
    "5. Compare cuts found from QAOA with random cuts."
   ]
  },
  {
   "cell_type": "code",
   "execution_count": 1,
   "metadata": {
    "id": "bd9529db1c0b"
   },
   "outputs": [],
   "source": [
    "try:\n",
    "    import cirq\n",
    "except ImportError:\n",
    "    print(\"installing cirq...\")\n",
    "    !pip install --quiet cirq\n",
    "    print(\"installed cirq.\")"
   ]
  },
  {
   "cell_type": "markdown",
   "metadata": {
    "id": "ACqqV6tJ7xXp"
   },
   "source": [
    "## 1. Defining a random set of weights over the hardware graph\n",
    "In order to make the problem easily embeddable on a quantum device, we will look at the problem of Max-Cut on the same graph that the device's qubit connectivity defines, but with random valued edge weights."
   ]
  },
  {
   "cell_type": "code",
   "execution_count": 2,
   "metadata": {
    "id": "rKoMKEw46XY7"
   },
   "outputs": [],
   "source": [
    "import cirq\n",
    "import cirq_google\n",
    "import sympy\n",
    "import numpy as np\n",
    "import matplotlib.pyplot as plt\n",
    "from pyquil import Program, get_qc\n",
    "\n",
    "qpu = get_qc('Aspen-9')\n",
    "qvm = get_qc('Aspen-9', as_qvm=True, noisy=False)"
   ]
  },
  {
   "cell_type": "markdown",
   "metadata": {
    "id": "gDLrxvAle_uC"
   },
   "source": [
    "Since a circuit covering the entire Aspen-9 device cannot be easily simulated, a small subset of the device graph will be used instead."
   ]
  },
  {
   "cell_type": "code",
   "execution_count": 90,
   "metadata": {
    "id": "XoXekxuQ8bI0"
   },
   "outputs": [
    {
     "data": {
      "image/png": "[encoded data removed]",
      "text/plain": [
       "<Figure size 432x288 with 1 Axes>"
      ]
     },
     "metadata": {},
     "output_type": "display_data"
    }
   ],
   "source": [
    "import networkx as nx\n",
    "\n",
    "# Set the seed to determine the problem instance.\n",
    "np.random.seed(seed=11)\n",
    "\n",
    "# Identify working qubits from the device.\n",
    "working_qubits = [node_id for node_id in qpu.qubits() if node_id <=8 or node_id in {15, 16}]\n",
    "device_graph = qpu.quantum_processor.qubit_topology()\n",
    "\n",
    "# Populate a networkx graph with working_qubits as nodes.\n",
    "working_graph = nx.Graph()\n",
    "for node_id in working_qubits:\n",
    "    working_graph.add_node(cirq.NamedQubit(str(node_id)))\n",
    "\n",
    "# Pair up all neighbors with random weights in working_graph.\n",
    "for qubit in working_qubits:\n",
    "    for neighbor in device_graph.adj[qubit]:\n",
    "        if cirq.NamedQubit(str(neighbor)) in working_graph:\n",
    "            # Generate a randomly weighted edge between them. Here the weighting\n",
    "            # is a random 2 decimal floating point between 0 and 5.\n",
    "            working_graph.add_edge(\n",
    "                cirq.NamedQubit(str(qubit)), cirq.NamedQubit(str(neighbor)), weight=np.random.randint(0, 500) / 100\n",
    "            )\n",
    "            \n",
    "nx.draw_circular(working_graph, node_size=1000, with_labels=True)\n",
    "plt.show()"
   ]
  },
  {
   "cell_type": "markdown",
   "metadata": {
    "id": "8Tucm7os-uET"
   },
   "source": [
    "## 2. Construct the QAOA circuit\n",
    "Now that we have created a Max-Cut problem graph, it's time to generate the QAOA circuit following [Farhi et al.](https://arxiv.org/abs/1411.4028). For simplicity $p = 1$ is chosen."
   ]
  },
  {
   "cell_type": "code",
   "execution_count": 91,
   "metadata": {
    "id": "niH8sty--Hu0"
   },
   "outputs": [
    {
     "data": {
      "image/svg+xml": [
       "<svg xmlns=\"http://www.w3.org/2000/svg\" width=\"1702.1197265625005\" height=\"540.0\"><line x1=\"30.0\" x2=\"1672.1197265625005\" y1=\"45.0\" y2=\"45.0\" stroke=\"#1967d2\" stroke-width=\"1\" /><line x1=\"30.0\" x2=\"1672.1197265625005\" y1=\"95.0\" y2=\"95.0\" stroke=\"#1967d2\" stroke-width=\"1\" /><line x1=\"30.0\" x2=\"1672.1197265625005\" y1=\"145.0\" y2=\"145.0\" stroke=\"#1967d2\" stroke-width=\"1\" /><line x1=\"30.0\" x2=\"1672.1197265625005\" y1=\"195.0\" y2=\"195.0\" stroke=\"#1967d2\" stroke-width=\"1\" /><line x1=\"30.0\" x2=\"1672.1197265625005\" y1=\"245.0\" y2=\"245.0\" stroke=\"#1967d2\" stroke-width=\"1\" /><line x1=\"30.0\" x2=\"1672.1197265625005\" y1=\"295.0\" y2=\"295.0\" stroke=\"#1967d2\" stroke-width=\"1\" /><line x1=\"30.0\" x2=\"1672.1197265625005\" y1=\"345.0\" y2=\"345.0\" stroke=\"#1967d2\" stroke-width=\"1\" /><line x1=\"30.0\" x2=\"1672.1197265625005\" y1=\"395.0\" y2=\"395.0\" stroke=\"#1967d2\" stroke-width=\"1\" /><line x1=\"30.0\" x2=\"1672.1197265625005\" y1=\"445.0\" y2=\"445.0\" stroke=\"#1967d2\" stroke-width=\"1\" /><line x1=\"30.0\" x2=\"1672.1197265625005\" y1=\"495.0\" y2=\"495.0\" stroke=\"#1967d2\" stroke-width=\"1\" /><line x1=\"806.0056640625002\" x2=\"1069.9708203125\" y1=\"5.0\" y2=\"5.0\" stroke=\"black\" stroke-width=\"1\" /><line x1=\"806.0056640625002\" x2=\"1069.9708203125\" y1=\"535.0\" y2=\"535.0\" stroke=\"black\" stroke-width=\"1\" /><line x1=\"532.0405078125001\" x2=\"796.0056640625002\" y1=\"5.0\" y2=\"5.0\" stroke=\"black\" stroke-width=\"1\" /><line x1=\"532.0405078125001\" x2=\"796.0056640625002\" y1=\"535.0\" y2=\"535.0\" stroke=\"black\" stroke-width=\"1\" /><line x1=\"258.07535156250003\" x2=\"522.0405078125001\" y1=\"5.0\" y2=\"5.0\" stroke=\"black\" stroke-width=\"1\" /><line x1=\"258.07535156250003\" x2=\"522.0405078125001\" y1=\"535.0\" y2=\"535.0\" stroke=\"black\" stroke-width=\"1\" /><line x1=\"189.03767578125002\" x2=\"189.03767578125002\" y1=\"45.0\" y2=\"95.0\" stroke=\"black\" stroke-width=\"3\" /><line x1=\"321.56664062500005\" x2=\"321.56664062500005\" y1=\"45.0\" y2=\"395.0\" stroke=\"black\" stroke-width=\"3\" /><line x1=\"448.5492187500001\" x2=\"448.5492187500001\" y1=\"95.0\" y2=\"145.0\" stroke=\"black\" stroke-width=\"3\" /><line x1=\"595.531796875\" x2=\"595.531796875\" y1=\"95.0\" y2=\"495.0\" stroke=\"black\" stroke-width=\"3\" /><line x1=\"722.5143750000001\" x2=\"722.5143750000001\" y1=\"145.0\" y2=\"195.0\" stroke=\"black\" stroke-width=\"3\" /><line x1=\"869.4969531250001\" x2=\"869.4969531250001\" y1=\"145.0\" y2=\"445.0\" stroke=\"black\" stroke-width=\"3\" /><line x1=\"996.4795312500002\" x2=\"996.4795312500002\" y1=\"195.0\" y2=\"245.0\" stroke=\"black\" stroke-width=\"3\" /><line x1=\"1153.4621093750002\" x2=\"1153.4621093750002\" y1=\"245.0\" y2=\"295.0\" stroke=\"black\" stroke-width=\"3\" /><line x1=\"1153.4621093750002\" x2=\"1153.4621093750002\" y1=\"445.0\" y2=\"495.0\" stroke=\"black\" stroke-width=\"3\" /><line x1=\"1300.4446875000003\" x2=\"1300.4446875000003\" y1=\"295.0\" y2=\"345.0\" stroke=\"black\" stroke-width=\"3\" /><line x1=\"1447.4272656250005\" x2=\"1447.4272656250005\" y1=\"345.0\" y2=\"395.0\" stroke=\"black\" stroke-width=\"3\" /><line x1=\"806.0056640625002\" x2=\"806.0056640625002\" y1=\"5.0\" y2=\"15.0\" stroke=\"black\" stroke-width=\"3\" /><line x1=\"1069.9708203125\" x2=\"1069.9708203125\" y1=\"5.0\" y2=\"15.0\" stroke=\"black\" stroke-width=\"3\" /><line x1=\"806.0056640625002\" x2=\"806.0056640625002\" y1=\"525.0\" y2=\"535.0\" stroke=\"black\" stroke-width=\"3\" /><line x1=\"1069.9708203125\" x2=\"1069.9708203125\" y1=\"525.0\" y2=\"535.0\" stroke=\"black\" stroke-width=\"3\" /><line x1=\"532.0405078125001\" x2=\"532.0405078125001\" y1=\"5.0\" y2=\"15.0\" stroke=\"black\" stroke-width=\"3\" /><line x1=\"796.0056640625002\" x2=\"796.0056640625002\" y1=\"5.0\" y2=\"15.0\" stroke=\"black\" stroke-width=\"3\" /><line x1=\"532.0405078125001\" x2=\"532.0405078125001\" y1=\"525.0\" y2=\"535.0\" stroke=\"black\" stroke-width=\"3\" /><line x1=\"796.0056640625002\" x2=\"796.0056640625002\" y1=\"525.0\" y2=\"535.0\" stroke=\"black\" stroke-width=\"3\" /><line x1=\"258.07535156250003\" x2=\"258.07535156250003\" y1=\"5.0\" y2=\"15.0\" stroke=\"black\" stroke-width=\"3\" /><line x1=\"522.0405078125001\" x2=\"522.0405078125001\" y1=\"5.0\" y2=\"15.0\" stroke=\"black\" stroke-width=\"3\" /><line x1=\"258.07535156250003\" x2=\"258.07535156250003\" y1=\"525.0\" y2=\"535.0\" stroke=\"black\" stroke-width=\"3\" /><line x1=\"522.0405078125001\" x2=\"522.0405078125001\" y1=\"525.0\" y2=\"535.0\" stroke=\"black\" stroke-width=\"3\" /><rect x=\"10.0\" y=\"25.0\" width=\"40\" height=\"40\" stroke=\"black\" fill=\"white\" stroke-width=\"0\" /><text x=\"30.0\" y=\"45.0\" dominant-baseline=\"middle\" text-anchor=\"middle\" font-size=\"14px\" font-family=\"Arial\">0: </text><rect x=\"10.0\" y=\"75.0\" width=\"40\" height=\"40\" stroke=\"black\" fill=\"white\" stroke-width=\"0\" /><text x=\"30.0\" y=\"95.0\" dominant-baseline=\"middle\" text-anchor=\"middle\" font-size=\"14px\" font-family=\"Arial\">1: </text><rect x=\"10.0\" y=\"125.0\" width=\"40\" height=\"40\" stroke=\"black\" fill=\"white\" stroke-width=\"0\" /><text x=\"30.0\" y=\"145.0\" dominant-baseline=\"middle\" text-anchor=\"middle\" font-size=\"14px\" font-family=\"Arial\">2: </text><rect x=\"10.0\" y=\"175.0\" width=\"40\" height=\"40\" stroke=\"black\" fill=\"white\" stroke-width=\"0\" /><text x=\"30.0\" y=\"195.0\" dominant-baseline=\"middle\" text-anchor=\"middle\" font-size=\"14px\" font-family=\"Arial\">3: </text><rect x=\"10.0\" y=\"225.0\" width=\"40\" height=\"40\" stroke=\"black\" fill=\"white\" stroke-width=\"0\" /><text x=\"30.0\" y=\"245.0\" dominant-baseline=\"middle\" text-anchor=\"middle\" font-size=\"14px\" font-family=\"Arial\">4: </text><rect x=\"10.0\" y=\"275.0\" width=\"40\" height=\"40\" stroke=\"black\" fill=\"white\" stroke-width=\"0\" /><text x=\"30.0\" y=\"295.0\" dominant-baseline=\"middle\" text-anchor=\"middle\" font-size=\"14px\" font-family=\"Arial\">5: </text><rect x=\"10.0\" y=\"325.0\" width=\"40\" height=\"40\" stroke=\"black\" fill=\"white\" stroke-width=\"0\" /><text x=\"30.0\" y=\"345.0\" dominant-baseline=\"middle\" text-anchor=\"middle\" font-size=\"14px\" font-family=\"Arial\">6: </text><rect x=\"10.0\" y=\"375.0\" width=\"40\" height=\"40\" stroke=\"black\" fill=\"white\" stroke-width=\"0\" /><text x=\"30.0\" y=\"395.0\" dominant-baseline=\"middle\" text-anchor=\"middle\" font-size=\"14px\" font-family=\"Arial\">7: </text><rect x=\"10.0\" y=\"425.0\" width=\"40\" height=\"40\" stroke=\"black\" fill=\"white\" stroke-width=\"0\" /><text x=\"30.0\" y=\"445.0\" dominant-baseline=\"middle\" text-anchor=\"middle\" font-size=\"14px\" font-family=\"Arial\">15: </text><rect x=\"10.0\" y=\"475.0\" width=\"40\" height=\"40\" stroke=\"black\" fill=\"white\" stroke-width=\"0\" /><text x=\"30.0\" y=\"495.0\" dominant-baseline=\"middle\" text-anchor=\"middle\" font-size=\"14px\" font-family=\"Arial\">16: </text><rect x=\"70.0\" y=\"25.0\" width=\"40\" height=\"40\" stroke=\"black\" fill=\"white\" stroke-width=\"1\" /><text x=\"90.0\" y=\"45.0\" dominant-baseline=\"middle\" text-anchor=\"middle\" font-size=\"18px\" font-family=\"Arial\">H</text><rect x=\"70.0\" y=\"75.0\" width=\"40\" height=\"40\" stroke=\"black\" fill=\"white\" stroke-width=\"1\" /><text x=\"90.0\" y=\"95.0\" dominant-baseline=\"middle\" text-anchor=\"middle\" font-size=\"18px\" font-family=\"Arial\">H</text><rect x=\"70.0\" y=\"125.0\" width=\"40\" height=\"40\" stroke=\"black\" fill=\"white\" stroke-width=\"1\" /><text x=\"90.0\" y=\"145.0\" dominant-baseline=\"middle\" text-anchor=\"middle\" font-size=\"18px\" font-family=\"Arial\">H</text><rect x=\"70.0\" y=\"175.0\" width=\"40\" height=\"40\" stroke=\"black\" fill=\"white\" stroke-width=\"1\" /><text x=\"90.0\" y=\"195.0\" dominant-baseline=\"middle\" text-anchor=\"middle\" font-size=\"18px\" font-family=\"Arial\">H</text><rect x=\"70.0\" y=\"225.0\" width=\"40\" height=\"40\" stroke=\"black\" fill=\"white\" stroke-width=\"1\" /><text x=\"90.0\" y=\"245.0\" dominant-baseline=\"middle\" text-anchor=\"middle\" font-size=\"18px\" font-family=\"Arial\">H</text><rect x=\"70.0\" y=\"275.0\" width=\"40\" height=\"40\" stroke=\"black\" fill=\"white\" stroke-width=\"1\" /><text x=\"90.0\" y=\"295.0\" dominant-baseline=\"middle\" text-anchor=\"middle\" font-size=\"18px\" font-family=\"Arial\">H</text><rect x=\"70.0\" y=\"325.0\" width=\"40\" height=\"40\" stroke=\"black\" fill=\"white\" stroke-width=\"1\" /><text x=\"90.0\" y=\"345.0\" dominant-baseline=\"middle\" text-anchor=\"middle\" font-size=\"18px\" font-family=\"Arial\">H</text><rect x=\"70.0\" y=\"375.0\" width=\"40\" height=\"40\" stroke=\"black\" fill=\"white\" stroke-width=\"1\" /><text x=\"90.0\" y=\"395.0\" dominant-baseline=\"middle\" text-anchor=\"middle\" font-size=\"18px\" font-family=\"Arial\">H</text><rect x=\"70.0\" y=\"425.0\" width=\"40\" height=\"40\" stroke=\"black\" fill=\"white\" stroke-width=\"1\" /><text x=\"90.0\" y=\"445.0\" dominant-baseline=\"middle\" text-anchor=\"middle\" font-size=\"18px\" font-family=\"Arial\">H</text><rect x=\"70.0\" y=\"475.0\" width=\"40\" height=\"40\" stroke=\"black\" fill=\"white\" stroke-width=\"1\" /><text x=\"90.0\" y=\"495.0\" dominant-baseline=\"middle\" text-anchor=\"middle\" font-size=\"18px\" font-family=\"Arial\">H</text><rect x=\"130.0\" y=\"25.0\" width=\"118.07535156250003\" height=\"40\" stroke=\"black\" fill=\"white\" stroke-width=\"1\" /><text x=\"189.03767578125002\" y=\"45.0\" dominant-baseline=\"middle\" text-anchor=\"middle\" font-size=\"14px\" font-family=\"Arial\">ZZ</text><rect x=\"130.0\" y=\"75.0\" width=\"118.07535156250003\" height=\"40\" stroke=\"black\" fill=\"white\" stroke-width=\"1\" /><text x=\"189.03767578125002\" y=\"95.0\" dominant-baseline=\"middle\" text-anchor=\"middle\" font-size=\"14px\" font-family=\"Arial\">ZZ^(0.8*alpha)</text><rect x=\"258.07535156250003\" y=\"25.0\" width=\"126.98257812500002\" height=\"40\" stroke=\"black\" fill=\"white\" stroke-width=\"1\" /><text x=\"321.56664062500005\" y=\"45.0\" dominant-baseline=\"middle\" text-anchor=\"middle\" font-size=\"14px\" font-family=\"Arial\">ZZ</text><rect x=\"258.07535156250003\" y=\"375.0\" width=\"126.98257812500002\" height=\"40\" stroke=\"black\" fill=\"white\" stroke-width=\"1\" /><text x=\"321.56664062500005\" y=\"395.0\" dominant-baseline=\"middle\" text-anchor=\"middle\" font-size=\"14px\" font-family=\"Arial\">ZZ^(3.01*alpha)</text><rect x=\"385.05792968750006\" y=\"75.0\" width=\"126.98257812500002\" height=\"40\" stroke=\"black\" fill=\"white\" stroke-width=\"1\" /><text x=\"448.5492187500001\" y=\"95.0\" dominant-baseline=\"middle\" text-anchor=\"middle\" font-size=\"14px\" font-family=\"Arial\">ZZ</text><rect x=\"385.05792968750006\" y=\"125.0\" width=\"126.98257812500002\" height=\"40\" stroke=\"black\" fill=\"white\" stroke-width=\"1\" /><text x=\"448.5492187500001\" y=\"145.0\" dominant-baseline=\"middle\" text-anchor=\"middle\" font-size=\"14px\" font-family=\"Arial\">ZZ^(4.39*alpha)</text><rect x=\"532.0405078125001\" y=\"75.0\" width=\"126.98257812500002\" height=\"40\" stroke=\"black\" fill=\"white\" stroke-width=\"1\" /><text x=\"595.531796875\" y=\"95.0\" dominant-baseline=\"middle\" text-anchor=\"middle\" font-size=\"14px\" font-family=\"Arial\">ZZ</text><rect x=\"532.0405078125001\" y=\"475.0\" width=\"126.98257812500002\" height=\"40\" stroke=\"black\" fill=\"white\" stroke-width=\"1\" /><text x=\"595.531796875\" y=\"495.0\" dominant-baseline=\"middle\" text-anchor=\"middle\" font-size=\"14px\" font-family=\"Arial\">ZZ^(0.34*alpha)</text><rect x=\"659.0230859375001\" y=\"125.0\" width=\"126.98257812500002\" height=\"40\" stroke=\"black\" fill=\"white\" stroke-width=\"1\" /><text x=\"722.5143750000001\" y=\"145.0\" dominant-baseline=\"middle\" text-anchor=\"middle\" font-size=\"14px\" font-family=\"Arial\">ZZ</text><rect x=\"659.0230859375001\" y=\"175.0\" width=\"126.98257812500002\" height=\"40\" stroke=\"black\" fill=\"white\" stroke-width=\"1\" /><text x=\"722.5143750000001\" y=\"195.0\" dominant-baseline=\"middle\" text-anchor=\"middle\" font-size=\"14px\" font-family=\"Arial\">ZZ^(1.61*alpha)</text><rect x=\"806.0056640625002\" y=\"125.0\" width=\"126.98257812500002\" height=\"40\" stroke=\"black\" fill=\"white\" stroke-width=\"1\" /><text x=\"869.4969531250001\" y=\"145.0\" dominant-baseline=\"middle\" text-anchor=\"middle\" font-size=\"14px\" font-family=\"Arial\">ZZ</text><rect x=\"806.0056640625002\" y=\"425.0\" width=\"126.98257812500002\" height=\"40\" stroke=\"black\" fill=\"white\" stroke-width=\"1\" /><text x=\"869.4969531250001\" y=\"445.0\" dominant-baseline=\"middle\" text-anchor=\"middle\" font-size=\"14px\" font-family=\"Arial\">ZZ^(1.25*alpha)</text><rect x=\"932.9882421875002\" y=\"175.0\" width=\"126.98257812500002\" height=\"40\" stroke=\"black\" fill=\"white\" stroke-width=\"1\" /><text x=\"996.4795312500002\" y=\"195.0\" dominant-baseline=\"middle\" text-anchor=\"middle\" font-size=\"14px\" font-family=\"Arial\">ZZ</text><rect x=\"932.9882421875002\" y=\"225.0\" width=\"126.98257812500002\" height=\"40\" stroke=\"black\" fill=\"white\" stroke-width=\"1\" /><text x=\"996.4795312500002\" y=\"245.0\" dominant-baseline=\"middle\" text-anchor=\"middle\" font-size=\"14px\" font-family=\"Arial\">ZZ^(3.38*alpha)</text><rect x=\"1089.9708203125\" y=\"225.0\" width=\"126.98257812500003\" height=\"40\" stroke=\"black\" fill=\"white\" stroke-width=\"1\" /><text x=\"1153.4621093750002\" y=\"245.0\" dominant-baseline=\"middle\" text-anchor=\"middle\" font-size=\"14px\" font-family=\"Arial\">ZZ</text><rect x=\"1089.9708203125\" y=\"275.0\" width=\"126.98257812500003\" height=\"40\" stroke=\"black\" fill=\"white\" stroke-width=\"1\" /><text x=\"1153.4621093750002\" y=\"295.0\" dominant-baseline=\"middle\" text-anchor=\"middle\" font-size=\"14px\" font-family=\"Arial\">ZZ^(1.09*alpha)</text><rect x=\"1089.9708203125\" y=\"425.0\" width=\"126.98257812500003\" height=\"40\" stroke=\"black\" fill=\"white\" stroke-width=\"1\" /><text x=\"1153.4621093750002\" y=\"445.0\" dominant-baseline=\"middle\" text-anchor=\"middle\" font-size=\"14px\" font-family=\"Arial\">ZZ</text><rect x=\"1089.9708203125\" y=\"475.0\" width=\"126.98257812500003\" height=\"40\" stroke=\"black\" fill=\"white\" stroke-width=\"1\" /><text x=\"1153.4621093750002\" y=\"495.0\" dominant-baseline=\"middle\" text-anchor=\"middle\" font-size=\"14px\" font-family=\"Arial\">ZZ^(3.88*alpha)</text><rect x=\"1236.9533984375003\" y=\"275.0\" width=\"126.98257812500003\" height=\"40\" stroke=\"black\" fill=\"white\" stroke-width=\"1\" /><text x=\"1300.4446875000003\" y=\"295.0\" dominant-baseline=\"middle\" text-anchor=\"middle\" font-size=\"14px\" font-family=\"Arial\">ZZ</text><rect x=\"1236.9533984375003\" y=\"325.0\" width=\"126.98257812500003\" height=\"40\" stroke=\"black\" fill=\"white\" stroke-width=\"1\" /><text x=\"1300.4446875000003\" y=\"345.0\" dominant-baseline=\"middle\" text-anchor=\"middle\" font-size=\"14px\" font-family=\"Arial\">ZZ^(1.76*alpha)</text><rect x=\"1383.9359765625004\" y=\"325.0\" width=\"126.98257812500003\" height=\"40\" stroke=\"black\" fill=\"white\" stroke-width=\"1\" /><text x=\"1447.4272656250005\" y=\"345.0\" dominant-baseline=\"middle\" text-anchor=\"middle\" font-size=\"14px\" font-family=\"Arial\">ZZ</text><rect x=\"1383.9359765625004\" y=\"375.0\" width=\"126.98257812500003\" height=\"40\" stroke=\"black\" fill=\"white\" stroke-width=\"1\" /><text x=\"1447.4272656250005\" y=\"395.0\" dominant-baseline=\"middle\" text-anchor=\"middle\" font-size=\"14px\" font-family=\"Arial\">ZZ^(4.16*alpha)</text><rect x=\"1530.9185546875005\" y=\"25.0\" width=\"61.201171875\" height=\"40\" stroke=\"black\" fill=\"white\" stroke-width=\"1\" /><text x=\"1561.5191406250005\" y=\"45.0\" dominant-baseline=\"middle\" text-anchor=\"middle\" font-size=\"14px\" font-family=\"Arial\">X^beta</text><rect x=\"1530.9185546875005\" y=\"75.0\" width=\"61.201171875\" height=\"40\" stroke=\"black\" fill=\"white\" stroke-width=\"1\" /><text x=\"1561.5191406250005\" y=\"95.0\" dominant-baseline=\"middle\" text-anchor=\"middle\" font-size=\"14px\" font-family=\"Arial\">X^beta</text><rect x=\"1530.9185546875005\" y=\"125.0\" width=\"61.201171875\" height=\"40\" stroke=\"black\" fill=\"white\" stroke-width=\"1\" /><text x=\"1561.5191406250005\" y=\"145.0\" dominant-baseline=\"middle\" text-anchor=\"middle\" font-size=\"14px\" font-family=\"Arial\">X^beta</text><rect x=\"1530.9185546875005\" y=\"175.0\" width=\"61.201171875\" height=\"40\" stroke=\"black\" fill=\"white\" stroke-width=\"1\" /><text x=\"1561.5191406250005\" y=\"195.0\" dominant-baseline=\"middle\" text-anchor=\"middle\" font-size=\"14px\" font-family=\"Arial\">X^beta</text><rect x=\"1530.9185546875005\" y=\"225.0\" width=\"61.201171875\" height=\"40\" stroke=\"black\" fill=\"white\" stroke-width=\"1\" /><text x=\"1561.5191406250005\" y=\"245.0\" dominant-baseline=\"middle\" text-anchor=\"middle\" font-size=\"14px\" font-family=\"Arial\">X^beta</text><rect x=\"1530.9185546875005\" y=\"275.0\" width=\"61.201171875\" height=\"40\" stroke=\"black\" fill=\"white\" stroke-width=\"1\" /><text x=\"1561.5191406250005\" y=\"295.0\" dominant-baseline=\"middle\" text-anchor=\"middle\" font-size=\"14px\" font-family=\"Arial\">X^beta</text><rect x=\"1530.9185546875005\" y=\"325.0\" width=\"61.201171875\" height=\"40\" stroke=\"black\" fill=\"white\" stroke-width=\"1\" /><text x=\"1561.5191406250005\" y=\"345.0\" dominant-baseline=\"middle\" text-anchor=\"middle\" font-size=\"14px\" font-family=\"Arial\">X^beta</text><rect x=\"1530.9185546875005\" y=\"375.0\" width=\"61.201171875\" height=\"40\" stroke=\"black\" fill=\"white\" stroke-width=\"1\" /><text x=\"1561.5191406250005\" y=\"395.0\" dominant-baseline=\"middle\" text-anchor=\"middle\" font-size=\"14px\" font-family=\"Arial\">X^beta</text><rect x=\"1530.9185546875005\" y=\"425.0\" width=\"61.201171875\" height=\"40\" stroke=\"black\" fill=\"white\" stroke-width=\"1\" /><text x=\"1561.5191406250005\" y=\"445.0\" dominant-baseline=\"middle\" text-anchor=\"middle\" font-size=\"14px\" font-family=\"Arial\">X^beta</text><rect x=\"1530.9185546875005\" y=\"475.0\" width=\"61.201171875\" height=\"40\" stroke=\"black\" fill=\"white\" stroke-width=\"1\" /><text x=\"1561.5191406250005\" y=\"495.0\" dominant-baseline=\"middle\" text-anchor=\"middle\" font-size=\"14px\" font-family=\"Arial\">X^beta</text><rect x=\"1612.1197265625005\" y=\"25.0\" width=\"40\" height=\"40\" stroke=\"black\" fill=\"white\" stroke-width=\"1\" /><text x=\"1632.1197265625005\" y=\"45.0\" dominant-baseline=\"middle\" text-anchor=\"middle\" font-size=\"18px\" font-family=\"Arial\">M</text><rect x=\"1612.1197265625005\" y=\"75.0\" width=\"40\" height=\"40\" stroke=\"black\" fill=\"white\" stroke-width=\"1\" /><text x=\"1632.1197265625005\" y=\"95.0\" dominant-baseline=\"middle\" text-anchor=\"middle\" font-size=\"18px\" font-family=\"Arial\">M</text><rect x=\"1612.1197265625005\" y=\"125.0\" width=\"40\" height=\"40\" stroke=\"black\" fill=\"white\" stroke-width=\"1\" /><text x=\"1632.1197265625005\" y=\"145.0\" dominant-baseline=\"middle\" text-anchor=\"middle\" font-size=\"18px\" font-family=\"Arial\">M</text><rect x=\"1612.1197265625005\" y=\"175.0\" width=\"40\" height=\"40\" stroke=\"black\" fill=\"white\" stroke-width=\"1\" /><text x=\"1632.1197265625005\" y=\"195.0\" dominant-baseline=\"middle\" text-anchor=\"middle\" font-size=\"18px\" font-family=\"Arial\">M</text><rect x=\"1612.1197265625005\" y=\"225.0\" width=\"40\" height=\"40\" stroke=\"black\" fill=\"white\" stroke-width=\"1\" /><text x=\"1632.1197265625005\" y=\"245.0\" dominant-baseline=\"middle\" text-anchor=\"middle\" font-size=\"18px\" font-family=\"Arial\">M</text><rect x=\"1612.1197265625005\" y=\"275.0\" width=\"40\" height=\"40\" stroke=\"black\" fill=\"white\" stroke-width=\"1\" /><text x=\"1632.1197265625005\" y=\"295.0\" dominant-baseline=\"middle\" text-anchor=\"middle\" font-size=\"18px\" font-family=\"Arial\">M</text><rect x=\"1612.1197265625005\" y=\"325.0\" width=\"40\" height=\"40\" stroke=\"black\" fill=\"white\" stroke-width=\"1\" /><text x=\"1632.1197265625005\" y=\"345.0\" dominant-baseline=\"middle\" text-anchor=\"middle\" font-size=\"18px\" font-family=\"Arial\">M</text><rect x=\"1612.1197265625005\" y=\"375.0\" width=\"40\" height=\"40\" stroke=\"black\" fill=\"white\" stroke-width=\"1\" /><text x=\"1632.1197265625005\" y=\"395.0\" dominant-baseline=\"middle\" text-anchor=\"middle\" font-size=\"18px\" font-family=\"Arial\">M</text><rect x=\"1612.1197265625005\" y=\"425.0\" width=\"40\" height=\"40\" stroke=\"black\" fill=\"white\" stroke-width=\"1\" /><text x=\"1632.1197265625005\" y=\"445.0\" dominant-baseline=\"middle\" text-anchor=\"middle\" font-size=\"18px\" font-family=\"Arial\">M</text><rect x=\"1612.1197265625005\" y=\"475.0\" width=\"40\" height=\"40\" stroke=\"black\" fill=\"white\" stroke-width=\"1\" /><text x=\"1632.1197265625005\" y=\"495.0\" dominant-baseline=\"middle\" text-anchor=\"middle\" font-size=\"18px\" font-family=\"Arial\">M</text></svg>"
      ],
      "text/plain": [
       "<cirq.contrib.svg.svg.SVGCircuit at 0x7ff79c5f0f70>"
      ]
     },
     "execution_count": 91,
     "metadata": {},
     "output_type": "execute_result"
    }
   ],
   "source": [
    "from cirq.contrib.svg import SVGCircuit\n",
    "\n",
    "# Symbols for the rotation angles in the QAOA circuit.\n",
    "alpha = sympy.Symbol('alpha')\n",
    "beta = sympy.Symbol('beta')\n",
    "\n",
    "qaoa_circuit = cirq.Circuit(\n",
    "    # Prepare uniform superposition on working_qubits == working_graph.nodes\n",
    "    cirq.H.on_each(working_graph.nodes()),\n",
    "\n",
    "    # Do ZZ operations between neighbors u, v in the graph. Here, u is a qubit,\n",
    "    # v is its neighboring qubit, and w is the weight between these qubits.\n",
    "    (cirq.ZZ(u, v) ** (alpha * w['weight']) for (u, v, w) in working_graph.edges(data=True)),\n",
    "\n",
    "    # Apply X operations along all nodes of the graph. Again working_graph's\n",
    "    # nodes are the working_qubits. Note here we use a moment\n",
    "    # which will force all of the gates into the same line.\n",
    "    cirq.Moment(cirq.X(qubit) ** beta for qubit in working_graph.nodes()),\n",
    "    \n",
    "    # All relevant things can be computed in the computational basis.\n",
    "    (cirq.measure(qubit) for qubit in working_graph.nodes()),\n",
    ")\n",
    "SVGCircuit(qaoa_circuit)"
   ]
  },
  {
   "cell_type": "markdown",
   "metadata": {
    "id": "-zbI-2KUMU66"
   },
   "source": [
    "## 3. Calculating the expected value of the QAOA cost Hamiltonian\n",
    "Now that we have created a parameterized QAOA circuit, we need a way to calculate expectation values of the cost Hamiltonian. For Max-Cut, the cost Hamiltonian is\n",
    "\n",
    "$$\n",
    "    H_C = \\frac{1}{2} \\sum_{\\langle i, j\\rangle} w_{ij} (1 - Z_i Z_j )\n",
    "$$\n",
    "\n",
    "where $\\langle i, j \\rangle$ denotes neighboring qubits, $w_{ij}$ is the weight of edge $ij$, and $Z$ is the usual Pauli-$Z$ matrix. The expectation value of this cost Hamiltonian is $\\langle \\alpha, \\beta | H_C | \\alpha, \\beta \\rangle$ where $|\\alpha, \\beta\\rangle$ is the quantum state prepared by our `qaoa_circuit`. This is the cost function we need to estimate.\n",
    "\n",
    "> Pauli-$Z$ has eigenvalues $\\pm 1$. If qubits $i$ and $j$ are in the same eigenspace, then $\\langle Z_i Z_j \\rangle = 1$ and so $\\frac{1}{2} w_{ij} \\langle 1 - Z_i Z_j \\rangle = 0$. In the Max-Cut language, this means that edge $ij$ does not contribute to the cost. If qubits $i$ and $j$ are in the opposite eigenspace, then $\\langle Z_i Z_j \\rangle = -1$ and so $\\frac{1}{2} w_{ij} \\langle 1 - Z_i Z_j \\rangle = w_{ij}$. In the Max-Cut language, this means that edge $ij$ contributes its weight $w_{ij}$ to the cost. \n",
    "\n",
    "To estimate the cost function, we need to estimate the (weighted) sum of all $ZZ$ pairs in the graph. Since these terms are diagonal in the same basis (namely, the computational basis), they can measured simultaneously. Given a set of measurements (samples), the function below estimates the cost function.\n",
    "\n",
    "> *Note*: We say \"estimate the cost\" instead of \"compute the cost\" since we are sampling from the circuit. This is how the cost would be evaluated when running QAOA on a real quantum processor."
   ]
  },
  {
   "cell_type": "code",
   "execution_count": 92,
   "metadata": {
    "id": "IqUn4uv9_IVo"
   },
   "outputs": [],
   "source": [
    "def estimate_cost(graph, samples):\n",
    "    \"\"\"Estimate the cost function of the QAOA on the given graph using the\n",
    "    provided computational basis bitstrings.\"\"\"\n",
    "    cost_value = 0.0\n",
    "\n",
    "    # Loop over edge pairs and compute contribution.\n",
    "    for u, v, w in graph.edges(data=True):\n",
    "        u_samples = samples[str(u)]\n",
    "        v_samples = samples[str(v)]\n",
    "\n",
    "        # Determine if it was a +1 or -1 eigenvalue.\n",
    "        u_signs = (-1)**u_samples\n",
    "        v_signs = (-1)**v_samples\n",
    "        term_signs = u_signs * v_signs\n",
    "\n",
    "        # Add scaled term to total cost.\n",
    "        term_val = np.mean(term_signs) * w['weight']\n",
    "        cost_value += term_val\n",
    "\n",
    "    return -cost_value"
   ]
  },
  {
   "cell_type": "markdown",
   "metadata": {
    "id": "XLO0RRZarb_a"
   },
   "source": [
    "Now we can sample from the `qaoa_circuit` and use `estimate_expectation` to calculate the expectation value of the cost function for the circuit. Below, we use arbitrary values for $\\alpha$ and $\\beta$."
   ]
  },
  {
   "cell_type": "code",
   "execution_count": 94,
   "metadata": {
    "id": "gZmW7NkBrl5Z"
   },
   "outputs": [
    {
     "name": "stdout",
     "output_type": "stream",
     "text": [
      "         alpha      beta  0  1  2  3  4  5  6  7  15  16\n",
      "0     0.785398  1.570796  1  1  0  0  0  1  1  0   0   0\n",
      "1     0.785398  1.570796  0  1  0  0  0  0  1  0   1   0\n",
      "2     0.785398  1.570796  0  1  0  0  0  0  1  0   0   0\n",
      "3     0.785398  1.570796  1  1  0  1  0  1  1  0   1   0\n",
      "4     0.785398  1.570796  1  1  0  0  0  1  1  0   1   0\n",
      "...        ...       ... .. .. .. .. .. .. .. ..  ..  ..\n",
      "9995  0.785398  1.570796  1  1  0  0  0  1  1  0   1   0\n",
      "9996  0.785398  1.570796  0  1  0  1  0  1  1  0   0   1\n",
      "9997  0.785398  1.570796  0  1  0  1  0  1  1  0   0   0\n",
      "9998  0.785398  1.570796  1  1  0  0  0  1  1  0   0   0\n",
      "9999  0.785398  1.570796  1  1  0  1  0  1  1  0   0   0\n",
      "\n",
      "[10000 rows x 12 columns]\n",
      "Alpha = 0.785 Beta = 1.571\n",
      "Estimated cost: 5.39717\n"
     ]
    }
   ],
   "source": [
    "from cirq.rigetti import RigettiQCSSampler, circuit_sweep_executors, circuit_transformers\n",
    "from pyquil.quilbase import Pragma\n",
    "from pyquil.simulation.tools import program_unitary\n",
    "\n",
    "def hook(program, measurement_id_map):\n",
    "    # print(program, measurement_id_map)\n",
    "    # print(program_unitary(program, 4))\n",
    "    program._instructions.insert(0, Pragma('INITIAL_REWIRING', freeform_string='NAIVE'))\n",
    "    \n",
    "    return program, measurement_id_map\n",
    "\n",
    "transformer = circuit_transformers.build(post_transformation_hooks=[hook])\n",
    "executor = circuit_sweep_executors.without_quilc_compilation\n",
    "# executor = circuit_sweep_executors.with_quilc_parametric_compilation\n",
    "rigetti_qcs_sampler = RigettiQCSSampler(quantum_computer=qvm, transformer=transformer, executor=executor)\n",
    "\n",
    "alpha_value = np.pi / 4\n",
    "beta_value = np.pi / 2\n",
    "\n",
    "repetitions = 10_000\n",
    "\n",
    "r1 = rigetti_qcs_sampler.sample(\n",
    "    qaoa_circuit, \n",
    "    params={alpha: alpha_value, beta: beta_value}, \n",
    "    repetitions=repetitions\n",
    ")\n",
    "print(r1)\n",
    "print(f'Alpha = {round(alpha_value, 3)} Beta = {round(beta_value, 3)}')\n",
    "print(f'Estimated cost: {estimate_cost(working_graph, r1)}')"
   ]
  },
  {
   "cell_type": "code",
   "execution_count": 95,
   "metadata": {
    "id": "f8fc427f4420"
   },
   "outputs": [
    {
     "name": "stdout",
     "output_type": "stream",
     "text": [
      "         alpha      beta  0  1  2  3  4  5  6  7  15  16\n",
      "0     0.785398  1.570796  0  0  1  0  0  0  1  0   1   0\n",
      "1     0.785398  1.570796  1  1  0  1  1  1  0  1   1   0\n",
      "2     0.785398  1.570796  1  1  0  1  0  1  1  1   1   0\n",
      "3     0.785398  1.570796  0  0  1  0  1  1  0  0   1   1\n",
      "4     0.785398  1.570796  1  0  0  1  1  0  1  1   0   1\n",
      "...        ...       ... .. .. .. .. .. .. .. ..  ..  ..\n",
      "9995  0.785398  1.570796  0  1  1  1  0  0  0  1   1   1\n",
      "9996  0.785398  1.570796  1  0  0  0  0  0  1  1   0   0\n",
      "9997  0.785398  1.570796  0  1  1  1  1  1  0  0   0   1\n",
      "9998  0.785398  1.570796  0  1  0  0  0  0  1  1   0   1\n",
      "9999  0.785398  1.570796  1  1  0  0  0  0  1  1   0   1\n",
      "\n",
      "[10000 rows x 12 columns]\n",
      "Alpha = 0.785 Beta = 1.571\n",
      "Estimated cost: -1.5503560000000003\n"
     ]
    }
   ],
   "source": [
    "sim = cirq.Simulator()\n",
    "r2 = sim.sample(\n",
    "    qaoa_circuit, \n",
    "    params={alpha: alpha_value, beta: beta_value}, \n",
    "    repetitions=repetitions\n",
    ")\n",
    "print(r2)\n",
    "print(f'Alpha = {round(alpha_value, 3)} Beta = {round(beta_value, 3)}')\n",
    "print(f'Estimated cost: {estimate_cost(working_graph, r2)}')"
   ]
  },
  {
   "cell_type": "code",
   "execution_count": 96,
   "metadata": {
    "id": "0aaaeb73c07a"
   },
   "outputs": [],
   "source": [
    "sampler = rigetti_qcs_sampler"
   ]
  },
  {
   "cell_type": "markdown",
   "metadata": {
    "id": "rBmCr_DCsbtf"
   },
   "source": [
    "## 4. Outer loop optimization\n",
    "Now that we can compute the cost function, we want to find the optimal cost. There are lots of different techniques to choose optimal parameters for the `qaoa_circuit`. Since there are only two parameters here ($\\alpha$ and $\\beta$), we can keep things simple and sweep over incremental pairings using `np.linspace` and track the minimum value found along the way."
   ]
  },
  {
   "cell_type": "code",
   "execution_count": 97,
   "metadata": {
    "id": "ma0pVZwSThQx"
   },
   "outputs": [],
   "source": [
    "# Set the grid size = number of points in the interval [0, 2π).\n",
    "grid_size = 5\n",
    "\n",
    "exp_values = np.empty((grid_size, grid_size))\n",
    "par_values = np.empty((grid_size, grid_size, 2))\n",
    "\n",
    "for i, alpha_value in enumerate(np.linspace(0, 2 * np.pi, grid_size)):\n",
    "    for j, beta_value in enumerate(np.linspace(0, 2 * np.pi, grid_size)):\n",
    "        samples = sampler.sample(\n",
    "            qaoa_circuit,\n",
    "            params={alpha: alpha_value, beta: beta_value},\n",
    "            repetitions=100\n",
    "        )\n",
    "        exp_values[i][j] = estimate_cost(working_graph, samples)\n",
    "        par_values[i][j] = alpha_value, beta_value"
   ]
  },
  {
   "cell_type": "markdown",
   "metadata": {
    "id": "vp-LmYLnvkzM"
   },
   "source": [
    "We can now visualize the cost as a function of $\\alpha$ and $\\beta$."
   ]
  },
  {
   "cell_type": "code",
   "execution_count": 98,
   "metadata": {
    "id": "ZdSqBSuNuckY"
   },
   "outputs": [
    {
     "data": {
      "image/png": "[encoded data removed]",
      "text/plain": [
       "<Figure size 432x288 with 1 Axes>"
      ]
     },
     "metadata": {
      "needs_background": "light"
     },
     "output_type": "display_data"
    }
   ],
   "source": [
    "plt.title('Heatmap of QAOA Cost Function Value')\n",
    "plt.xlabel(r'$\\alpha$')\n",
    "plt.ylabel(r'$\\beta$')\n",
    "plt.imshow(exp_values);"
   ]
  },
  {
   "cell_type": "markdown",
   "metadata": {
    "id": "d6dd7eb92995"
   },
   "source": [
    "This heatmap is coarse because we selected a small `grid_size`. To see more detail in the heatmap, one can increase the `grid_size`. "
   ]
  },
  {
   "cell_type": "markdown",
   "metadata": {
    "id": "BzwnTYWpuKZM"
   },
   "source": [
    "## 5. Compare cuts\n",
    "\n",
    "We now compare the optimal cut found by QAOA to a randomly selected cut. The helper function draws the `working_graph` and colors nodes in different sets different colors. Additionally, we print out the cost function for the given cut."
   ]
  },
  {
   "cell_type": "code",
   "execution_count": 99,
   "metadata": {
    "id": "6nD1YQr39KOI"
   },
   "outputs": [],
   "source": [
    "def output_cut(S_partition):\n",
    "    \"\"\"Plot and output the graph cut information.\"\"\"\n",
    "\n",
    "    # Generate the colors.\n",
    "    coloring = []\n",
    "    for node in working_graph:\n",
    "        if node in S_partition:\n",
    "            coloring.append('blue')\n",
    "        else:\n",
    "            coloring.append('red')\n",
    "\n",
    "    # Get the weights\n",
    "    edges = working_graph.edges(data=True)\n",
    "    weights = [w['weight'] for (u,v, w) in edges]\n",
    "\n",
    "    nx.draw_circular(\n",
    "        working_graph,\n",
    "        node_color=coloring,\n",
    "        node_size=1000,\n",
    "        with_labels=True,\n",
    "        width=weights)\n",
    "    plt.show()\n",
    "    size = nx.cut_size(working_graph, S_partition, weight='weight')\n",
    "    print(f'Cut size: {size}')"
   ]
  },
  {
   "cell_type": "markdown",
   "metadata": {
    "id": "224d0f64a553"
   },
   "source": [
    "As an example, we can test this function with all nodes in the same set, for which the cut size should be zero."
   ]
  },
  {
   "cell_type": "code",
   "execution_count": 100,
   "metadata": {
    "id": "7a478de8f06a"
   },
   "outputs": [
    {
     "data": {
      "image/png": "[encoded data removed]",
      "text/plain": [
       "<Figure size 432x288 with 1 Axes>"
      ]
     },
     "metadata": {},
     "output_type": "display_data"
    },
    {
     "name": "stdout",
     "output_type": "stream",
     "text": [
      "Cut size: 0\n"
     ]
    }
   ],
   "source": [
    "# Test with the empty S and all nodes placed in T.\n",
    "output_cut([])"
   ]
  },
  {
   "cell_type": "markdown",
   "metadata": {
    "id": "t2DOLJ_3-cJt"
   },
   "source": [
    "To get cuts using the QAOA we will first need to extract the best control parameters found during the sweep:"
   ]
  },
  {
   "cell_type": "code",
   "execution_count": 101,
   "metadata": {
    "id": "xg5vPCt_vIrf"
   },
   "outputs": [
    {
     "name": "stdout",
     "output_type": "stream",
     "text": [
      "Best control parameters: [1.57079633 4.71238898]\n"
     ]
    }
   ],
   "source": [
    "best_exp_index = np.unravel_index(np.argmax(exp_values), exp_values.shape)\n",
    "best_parameters = par_values[best_exp_index]\n",
    "print(f'Best control parameters: {best_parameters}')"
   ]
  },
  {
   "cell_type": "markdown",
   "metadata": {
    "id": "IRab6h39voLn"
   },
   "source": [
    "Each bitstring can be seen as a candidate cut in the graph. The qubits that measured 0 correspond to that qubit being in one cut partition and a qubit that measured to 1 corresponds to that qubit being in the other cut partition. Now that we've found good parameters for the `qaoa_circuit`, we can just sample some bistrings, iterate over them and pick the one that gives the best cut:"
   ]
  },
  {
   "cell_type": "code",
   "execution_count": 102,
   "metadata": {
    "id": "_1NYplopuFzu"
   },
   "outputs": [],
   "source": [
    "# Number of candidate cuts to sample.\n",
    "num_cuts = 100\n",
    "candidate_cuts = sampler.sample(\n",
    "    qaoa_circuit,\n",
    "    params={alpha: best_parameters[0], beta: best_parameters[1]},\n",
    "    repetitions=num_cuts\n",
    ")\n",
    "\n",
    "# Variables to store best cut partitions and cut size.\n",
    "best_qaoa_S_partition = set()\n",
    "best_qaoa_T_partition = set()\n",
    "best_qaoa_cut_size = -np.inf\n",
    "\n",
    "# Analyze each candidate cut.\n",
    "for i in range(num_cuts):\n",
    "    candidate = candidate_cuts.iloc[i]\n",
    "    one_qubits = set(candidate[candidate==1].index)\n",
    "    S_partition = set()\n",
    "    T_partition = set()\n",
    "    for node in working_graph:\n",
    "        if str(node) in one_qubits:\n",
    "            # If a one was measured add node to S partition.\n",
    "            S_partition.add(node)\n",
    "        else:\n",
    "            # Otherwise a zero was measured so add to T partition.\n",
    "            T_partition.add(node)\n",
    "\n",
    "    cut_size = nx.cut_size(\n",
    "        working_graph, S_partition, T_partition, weight='weight')\n",
    "  \n",
    "    # If you found a better cut update best_qaoa_cut variables.\n",
    "    if cut_size > best_qaoa_cut_size:\n",
    "        best_qaoa_cut_size = cut_size\n",
    "        best_qaoa_S_partition = S_partition\n",
    "        best_qaoa_T_partition = T_partition"
   ]
  },
  {
   "cell_type": "markdown",
   "metadata": {
    "id": "auo2VuTm6haO"
   },
   "source": [
    "The QAOA is known to do just a little better better than random guessing for Max-Cut on 3-regular graphs at `p=1`. You can use very similar logic to the code above, but now instead of relying on the QAOA to decied your `S_partition` and `T_partition` you can just pick then randomly:"
   ]
  },
  {
   "cell_type": "code",
   "execution_count": 103,
   "metadata": {
    "id": "UC5Sjgt-2tjC"
   },
   "outputs": [],
   "source": [
    "import random\n",
    "\n",
    "best_random_S_partition = set()\n",
    "best_random_T_partition = set()\n",
    "best_random_cut_size = -9999\n",
    "\n",
    "# Randomly build candidate sets.\n",
    "for i in range(num_cuts):\n",
    "    S_partition = set()\n",
    "    T_partition = set()\n",
    "    for node in working_graph:\n",
    "        if random.random() > 0.5:\n",
    "            # If we flip heads add to S.\n",
    "            S_partition.add(node)\n",
    "        else:\n",
    "            # Otherwise add to T.\n",
    "            T_partition.add(node)\n",
    "\n",
    "    cut_size = nx.cut_size(\n",
    "        working_graph, S_partition, T_partition, weight='weight')\n",
    "  \n",
    "    # If you found a better cut update best_random_cut variables.\n",
    "    if cut_size > best_random_cut_size:\n",
    "        best_random_cut_size = cut_size\n",
    "        best_random_S_partition = S_partition\n",
    "        best_random_T_partition = T_partition"
   ]
  },
  {
   "cell_type": "code",
   "execution_count": 104,
   "metadata": {
    "id": "2MldXTYP8QA2"
   },
   "outputs": [
    {
     "name": "stdout",
     "output_type": "stream",
     "text": [
      "-----QAOA-----\n"
     ]
    },
    {
     "data": {
      "image/png": "[encoded data removed]",
      "text/plain": [
       "<Figure size 432x288 with 1 Axes>"
      ]
     },
     "metadata": {},
     "output_type": "display_data"
    },
    {
     "name": "stdout",
     "output_type": "stream",
     "text": [
      "Cut size: 25.67\n",
      "\n",
      "\n",
      "-----RANDOM-----\n"
     ]
    },
    {
     "data": {
      "image/png": "[encoded data removed]",
      "text/plain": [
       "<Figure size 432x288 with 1 Axes>"
      ]
     },
     "metadata": {},
     "output_type": "display_data"
    },
    {
     "name": "stdout",
     "output_type": "stream",
     "text": [
      "Cut size: 24.080000000000002\n"
     ]
    }
   ],
   "source": [
    "print('-----QAOA-----')\n",
    "output_cut(best_qaoa_S_partition)\n",
    "\n",
    "print('\\n\\n-----RANDOM-----')\n",
    "output_cut(best_random_S_partition)"
   ]
  },
  {
   "cell_type": "markdown",
   "metadata": {
    "id": "b928b82a9902"
   },
   "source": [
    "For this problem instance, one should see that $p = 1$ QAOA performs better, on average, than randomly guessing."
   ]
  }
 ],
 "metadata": {
  "colab": {
   "collapsed_sections": [],
   "name": "qaoa.ipynb",
   "toc_visible": true
  },
  "kernelspec": {
   "display_name": "Python 3",
   "name": "python3"
  }
 },
 "nbformat": 4,
 "nbformat_minor": 0
}
